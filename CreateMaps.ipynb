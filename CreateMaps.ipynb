{
 "cells": [
  {
   "cell_type": "code",
   "execution_count": 2,
   "metadata": {
    "collapsed": true
   },
   "outputs": [],
   "source": [
    "import pandas\n",
    "import matplotlib.pyplot as plt\n",
    "%matplotlib inline"
   ]
  },
  {
   "cell_type": "code",
   "execution_count": 3,
   "metadata": {
    "collapsed": false
   },
   "outputs": [
    {
     "name": "stdout",
     "output_type": "stream",
     "text": [
      "   Unnamed: 0  pickup_longitude  pickup_latitude  dropoff_longitude  \\\n",
      "0     3220302        -73.984283        40.729012         -74.001923   \n",
      "1     3220303        -73.955917        40.764046         -73.975967   \n",
      "\n",
      "   dropoff_latitude  \n",
      "0         40.721500  \n",
      "1         40.765697  \n",
      "Number of data points: 80958\n"
     ]
    }
   ],
   "source": [
    "#Import the data file as a data frame\n",
    "filepath = 'rushhr_coordinates.csv'\n",
    "df = pandas.read_csv(filepath)\n",
    "\n",
    "print(df.iloc[0:2])\n",
    "print('Number of data points: '+str(len(df)))"
   ]
  },
  {
   "cell_type": "code",
   "execution_count": 4,
   "metadata": {
    "collapsed": false
   },
   "outputs": [
    {
     "data": {
      "text/plain": [
       "(-74.2, -73.7)"
      ]
     },
     "execution_count": 4,
     "metadata": {},
     "output_type": "execute_result"
    },
    {
     "data": {
      "image/png": "[encoded data removed]",
      "text/plain": [
       "<matplotlib.figure.Figure at 0x118116550>"
      ]
     },
     "metadata": {},
     "output_type": "display_data"
    }
   ],
   "source": [
    "#Plot the orgins (blue) and destinations (red)\n",
    "dfpart = df.iloc[range(0,len(df),int(len(df)//1000)),:]\n",
    "plt.plot(dfpart['pickup_longitude'],dfpart['pickup_latitude'],color='b',marker=',',lw=0, linestyle=\"\")\n",
    "plt.plot(dfpart['dropoff_longitude'],dfpart['dropoff_latitude'],color='r',marker=',',lw=0, linestyle=\"\")\n",
    "plt.ylim([40.6,40.9])\n",
    "plt.xlim([-74.2,-73.7])"
   ]
  },
  {
   "cell_type": "code",
   "execution_count": 5,
   "metadata": {
    "collapsed": false
   },
   "outputs": [
    {
     "name": "stdout",
     "output_type": "stream",
     "text": [
      "   Unnamed: 0  pickup_longitude  pickup_latitude  dropoff_longitude  \\\n",
      "0     1504109        -73.996704        40.720528         -73.999062   \n",
      "1     1504110        -73.984215        40.728851         -73.987534   \n",
      "\n",
      "   dropoff_latitude  \n",
      "0         40.734329  \n",
      "1         40.740757  \n",
      "Number of data points: 79642\n"
     ]
    },
    {
     "data": {
      "text/plain": [
       "(-74.2, -73.7)"
      ]
     },
     "execution_count": 5,
     "metadata": {},
     "output_type": "execute_result"
    },
    {
     "data": {
      "image/png": "[encoded data removed]",
      "text/plain": [
       "<matplotlib.figure.Figure at 0x1181164d0>"
      ]
     },
     "metadata": {},
     "output_type": "display_data"
    }
   ],
   "source": [
    "#Import the data file as a data frame\n",
    "filepath = 'weekendhr_coordinates.csv'\n",
    "df = pandas.read_csv(filepath)\n",
    "\n",
    "print(df.iloc[0:2])\n",
    "print('Number of data points: '+str(len(df)))\n",
    "\n",
    "#Plot the orgins (blue) and destinations (red)\n",
    "dfpart = df.iloc[range(0,len(df),int(len(df)//1000)),:]\n",
    "plt.plot(dfpart['pickup_longitude'],dfpart['pickup_latitude'],color='b',marker=',',lw=0, linestyle=\"\")\n",
    "plt.plot(dfpart['dropoff_longitude'],dfpart['dropoff_latitude'],color='r',marker=',',lw=0, linestyle=\"\")\n",
    "plt.ylim([40.6,40.9])\n",
    "plt.xlim([-74.2,-73.7])"
   ]
  },
  {
   "cell_type": "code",
   "execution_count": 12,
   "metadata": {
    "collapsed": false
   },
   "outputs": [
    {
     "data": {
      "text/plain": [
       "<matplotlib.text.Text at 0x11cc8cd90>"
      ]
     },
     "execution_count": 12,
     "metadata": {},
     "output_type": "execute_result"
    },
    {
     "data": {
      "image/png": "[encoded data removed]",
      "text/plain": [
       "<matplotlib.figure.Figure at 0x11938b150>"
      ]
     },
     "metadata": {},
     "output_type": "display_data"
    }
   ],
   "source": [
    "## KATIE additions\n",
    "\n",
    "#Import the data file as a data frame\n",
    "filepath = 'rushhr_coordinates2.csv'\n",
    "df = pandas.read_csv(filepath)\n",
    "\n",
    "#plot histogram of trip distances\n",
    "\n",
    "dist_plot = df['trip_distance'].hist(bins=40)\n",
    "dist_plot.set_title(\"Histogram of Trip Distances\")\n",
    "dist_plot.set_xlabel(\"Distance (miles)\")\n",
    "dist_plot.set_ylabel(\"Occurances\")\n"
   ]
  },
  {
   "cell_type": "code",
   "execution_count": null,
   "metadata": {
    "collapsed": false
   },
   "outputs": [],
   "source": [
    "\n",
    "\n"
   ]
  },
  {
   "cell_type": "code",
   "execution_count": null,
   "metadata": {
    "collapsed": true
   },
   "outputs": [],
   "source": []
  }
 ],
 "metadata": {
  "kernelspec": {
   "display_name": "Python [default]",
   "language": "python",
   "name": "python3"
  },
  "language_info": {
   "codemirror_mode": {
    "name": "ipython",
    "version": 3
   },
   "file_extension": ".py",
   "mimetype": "text/x-python",
   "name": "python",
   "nbconvert_exporter": "python",
   "pygments_lexer": "ipython3",
   "version": "3.5.2"
  }
 },
 "nbformat": 4,
 "nbformat_minor": 0
}
