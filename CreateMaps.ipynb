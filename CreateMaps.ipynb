{
 "cells": [
  {
   "cell_type": "code",
   "execution_count": 42,
   "metadata": {
    "collapsed": true
   },
   "outputs": [],
   "source": [
    "import pandas\n",
    "import matplotlib.pyplot as plt\n",
    "%matplotlib inline"
   ]
  },
  {
   "cell_type": "code",
   "execution_count": null,
   "metadata": {
    "collapsed": true
   },
   "outputs": [],
   "source": [
    "#hello"
   ]
  },
  {
   "cell_type": "code",
   "execution_count": 5,
   "metadata": {
    "collapsed": false
   },
   "outputs": [
    {
     "name": "stdout",
     "output_type": "stream",
     "text": [
      "   Unnamed: 0  pickup_longitude  pickup_latitude  dropoff_longitude  \\\n",
      "0     3220302        -73.984283        40.729012         -74.001923   \n",
      "1     3220303        -73.955917        40.764046         -73.975967   \n",
      "\n",
      "   dropoff_latitude  \n",
      "0         40.721500  \n",
      "1         40.765697  \n",
      "Number of data points: 80958\n"
     ]
    }
   ],
   "source": [
    "#Import the data file as a data frame\n",
    "filepath = 'rushhr_coordinates.csv'\n",
    "df = pandas.read_csv(filepath)\n",
    "\n",
    "print(df.iloc[0:2])\n",
    "print('Number of data points: '+str(len(df)))"
   ]
  },
  {
   "cell_type": "code",
   "execution_count": 46,
   "metadata": {
    "collapsed": false
   },
   "outputs": [
    {
     "data": {
      "text/plain": [
       "(-74.05, -73.8)"
      ]
     },
     "execution_count": 46,
     "metadata": {},
     "output_type": "execute_result"
    },
    {
     "data": {
      "image/png": "[encoded data removed]",
      "text/plain": [
       "<matplotlib.figure.Figure at 0xd4d0208>"
      ]
     },
     "metadata": {},
     "output_type": "display_data"
    }
   ],
   "source": [
    "#Plot the orgins (blue) and destinations (red)\n",
    "dfpart = df.iloc[range(0,len(df),int(len(df)//1000)),:]\n",
    "plt.axis('equal')\n",
    "plt.plot(dfpart['pickup_longitude'],dfpart['pickup_latitude'],color='b',marker=',',lw=0, linestyle=\"\")\n",
    "plt.plot(dfpart['dropoff_longitude'],dfpart['dropoff_latitude'],color='r',marker=',',lw=0, linestyle=\"\")\n",
    "plt.ylim([40.65,40.85])\n",
    "plt.xlim([-74.05,-73.8])"
   ]
  },
  {
   "cell_type": "code",
   "execution_count": 41,
   "metadata": {
    "collapsed": false
   },
   "outputs": [
    {
     "name": "stdout",
     "output_type": "stream",
     "text": [
      "   Unnamed: 0  pickup_longitude  pickup_latitude  dropoff_longitude  \\\n",
      "0     1504109        -73.996704        40.720528         -73.999062   \n",
      "1     1504110        -73.984215        40.728851         -73.987534   \n",
      "\n",
      "   dropoff_latitude  \n",
      "0         40.734329  \n",
      "1         40.740757  \n",
      "Number of data points: 79642\n"
     ]
    },
    {
     "data": {
      "text/plain": [
       "(-74.2, -73.7)"
      ]
     },
     "execution_count": 41,
     "metadata": {},
     "output_type": "execute_result"
    },
    {
     "data": {
      "image/png": "[encoded data removed]",
      "text/plain": [
       "<matplotlib.figure.Figure at 0xd4d2710>"
      ]
     },
     "metadata": {},
     "output_type": "display_data"
    }
   ],
   "source": [
    "#Import the data file as a data frame\n",
    "filepath = 'weekendhr_coordinates.csv'\n",
    "df = pandas.read_csv(filepath)\n",
    "\n",
    "print(df.iloc[0:2])\n",
    "print('Number of data points: '+str(len(df)))\n",
    "\n",
    "#Plot the orgins (blue) and destinations (red)\n",
    "dfpart = df.iloc[range(0,len(df),int(len(df)//1000)),:]\n",
    "plt.plot(dfpart['pickup_longitude'],dfpart['pickup_latitude'],color='b',marker=',',lw=0, linestyle=\"\")\n",
    "plt.plot(dfpart['dropoff_longitude'],dfpart['dropoff_latitude'],color='r',marker=',',lw=0, linestyle=\"\")\n",
    "plt.ylim([40.6,40.9])\n",
    "plt.xlim([-74.2,-73.7])"
   ]
  }
 ],
 "metadata": {
  "anaconda-cloud": {},
  "kernelspec": {
   "display_name": "Python [Root]",
   "language": "python",
   "name": "Python [Root]"
  },
  "language_info": {
   "codemirror_mode": {
    "name": "ipython",
    "version": 2
   },
   "file_extension": ".py",
   "mimetype": "text/x-python",
   "name": "python",
   "nbconvert_exporter": "python",
   "pygments_lexer": "ipython2",
   "version": "2.7.12"
  }
 },
 "nbformat": 4,
 "nbformat_minor": 0
}
