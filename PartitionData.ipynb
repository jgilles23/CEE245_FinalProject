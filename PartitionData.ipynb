{
 "cells": [
  {
   "cell_type": "code",
   "execution_count": 19,
   "metadata": {
    "collapsed": true
   },
   "outputs": [],
   "source": [
    "import pandas\n",
    "import datetime"
   ]
  },
  {
   "cell_type": "markdown",
   "metadata": {},
   "source": [
    "# Import all of the data\n",
    "Change the filepath to wherever you stored the csv file"
   ]
  },
  {
   "cell_type": "code",
   "execution_count": 2,
   "metadata": {
    "collapsed": true
   },
   "outputs": [],
   "source": [
    "#Import the data file as a data frame\n",
    "filepath = 'yellow_tripdata_2016-06.csv'\n",
    "df = pandas.read_csv(filepath)"
   ]
  },
  {
   "cell_type": "markdown",
   "metadata": {},
   "source": [
    "http://www.shanelynn.ie/select-pandas-dataframe-rows-and-columns-using-iloc-loc-and-ix/\n",
    "Information on how to use select things in a pandas data frame"
   ]
  },
  {
   "cell_type": "code",
   "execution_count": 42,
   "metadata": {
    "collapsed": false
   },
   "outputs": [
    {
     "name": "stdout",
     "output_type": "stream",
     "text": [
      "Number of data points: 11135470\n",
      "        tpep_pickup_datetime tpep_dropoff_datetime  trip_distance  \\\n",
      "0        2016-06-09 21:06:36   2016-06-09 21:13:08           0.79   \n",
      "1113547  2016-06-03 14:14:43   2016-06-03 14:27:50           1.00   \n",
      "\n",
      "         pickup_longitude  pickup_latitude  dropoff_longitude  \\\n",
      "0              -73.983360        40.760937         -73.977463   \n",
      "1113547        -74.006989        40.728848         -73.997963   \n",
      "\n",
      "         dropoff_latitude  \n",
      "0               40.753979  \n",
      "1113547         40.719357  \n"
     ]
    }
   ],
   "source": [
    "#Select some semi random rows\n",
    "print('Number of data points: '+str(len(df)))\n",
    "N = 10 #Approximate number of data points tp select\n",
    "firstRows = df.iloc[range(0,len(df),len(df)//N),:]\n",
    "#print(firstRows)\n",
    "#Keep only the columns that we want\n",
    "firstRows = firstRows.loc[:,['tpep_pickup_datetime','tpep_dropoff_datetime',\n",
    "                             'trip_distance',\n",
    "                             'pickup_longitude','pickup_latitude',\n",
    "                             'dropoff_longitude','dropoff_latitude']]\n",
    "print(firstRows.iloc[0:2])"
   ]
  },
  {
   "cell_type": "code",
   "execution_count": 44,
   "metadata": {
    "collapsed": false
   },
   "outputs": [
    {
     "name": "stdout",
     "output_type": "stream",
     "text": [
      "        tpep_pickup_datetime tpep_dropoff_datetime  trip_distance  \\\n",
      "0        2016-06-09 21:06:36   2016-06-09 21:13:08           0.79   \n",
      "1113547  2016-06-03 14:14:43   2016-06-03 14:27:50           1.00   \n",
      "\n",
      "         pickup_longitude  pickup_latitude  dropoff_longitude  \\\n",
      "0              -73.983360        40.760937         -73.977463   \n",
      "1113547        -74.006989        40.728848         -73.997963   \n",
      "\n",
      "         dropoff_latitude pickup_datetimeobject dropoff_datetimeobject  \\\n",
      "0               40.753979   2016-06-09 21:06:36    2016-06-09 21:13:08   \n",
      "1113547         40.719357   2016-06-03 14:14:43    2016-06-03 14:27:50   \n",
      "\n",
      "         pickup_dayofweek  dropoff_dayofweek  pickup_hour  dropoff_hour  \n",
      "0                       3                  3           21            21  \n",
      "1113547                 4                  4           14            14  \n"
     ]
    }
   ],
   "source": [
    "#Assume that we are working with pickup times as the constraint factor\n",
    "#date time format example: '2011-09-04 23:44:30'\n",
    "format0 = '%Y-%m-%d %H:%M:%S'\n",
    "#Add times in datetime format\n",
    "firstRows['pickup_datetimeobject'] = [datetime.datetime.strptime(s, format0) for s in firstRows['tpep_pickup_datetime']]\n",
    "firstRows['dropoff_datetimeobject'] = [datetime.datetime.strptime(s, format0) for s in firstRows['tpep_dropoff_datetime']]\n",
    "#Add days of the week\n",
    "firstRows['pickup_dayofweek'] = [dt.weekday() for dt in firstRows['pickup_datetimeobject']]\n",
    "firstRows['dropoff_dayofweek'] = [dt.weekday() for dt in firstRows['dropoff_datetimeobject']]\n",
    "#Add hour of the day\n",
    "firstRows['pickup_hour'] = [dt.hour for dt in firstRows['pickup_datetimeobject']]\n",
    "firstRows['dropoff_hour'] = [dt.hour for dt in firstRows['dropoff_datetimeobject']]\n",
    "\n",
    "print(firstRows.iloc[0:2])"
   ]
  },
  {
   "cell_type": "code",
   "execution_count": null,
   "metadata": {
    "collapsed": true
   },
   "outputs": [],
   "source": [
    "#Select out specifc rows of data based on conditions\n",
    "select"
   ]
  }
 ],
 "metadata": {
  "kernelspec": {
   "display_name": "Python [Root]",
   "language": "python",
   "name": "Python [Root]"
  },
  "language_info": {
   "codemirror_mode": {
    "name": "ipython",
    "version": 2
   },
   "file_extension": ".py",
   "mimetype": "text/x-python",
   "name": "python",
   "nbconvert_exporter": "python",
   "pygments_lexer": "ipython2",
   "version": "2.7.12"
  }
 },
 "nbformat": 4,
 "nbformat_minor": 0
}
