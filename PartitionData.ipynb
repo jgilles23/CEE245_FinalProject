{
 "cells": [
  {
   "cell_type": "code",
   "execution_count": 1,
   "metadata": {
    "collapsed": true
   },
   "outputs": [],
   "source": [
    "import pandas"
   ]
  },
  {
   "cell_type": "markdown",
   "metadata": {},
   "source": [
    "# Import all of the data\n",
    "Change the filepath to wherever you stored the csv file"
   ]
  },
  {
   "cell_type": "code",
   "execution_count": 2,
   "metadata": {
    "collapsed": true
   },
   "outputs": [],
   "source": [
    "#Import the data file as a data frame\n",
    "filepath = 'yellow_tripdata_2016-06.csv'\n",
    "df = pandas.read_csv(filepath)"
   ]
  },
  {
   "cell_type": "markdown",
   "metadata": {},
   "source": [
    "http://www.shanelynn.ie/select-pandas-dataframe-rows-and-columns-using-iloc-loc-and-ix/\n",
    "Information on how to use select things in a pandas data frame"
   ]
  },
  {
   "cell_type": "code",
   "execution_count": 15,
   "metadata": {
    "collapsed": false
   },
   "outputs": [
    {
     "name": "stdout",
     "output_type": "stream",
     "text": [
      "11135470\n",
      "          VendorID tpep_pickup_datetime tpep_dropoff_datetime  \\\n",
      "0                2  2016-06-09 21:06:36   2016-06-09 21:13:08   \n",
      "1113547          1  2016-06-03 14:14:43   2016-06-03 14:27:50   \n",
      "2227094          2  2016-06-12 03:27:43   2016-06-12 03:36:28   \n",
      "3340641          1  2016-06-07 14:15:56   2016-06-07 14:34:16   \n",
      "4454188          2  2016-06-12 17:03:48   2016-06-12 17:08:38   \n",
      "5567735          1  2016-06-15 20:20:45   2016-06-15 20:25:53   \n",
      "6681282          2  2016-06-18 17:32:57   2016-06-18 17:43:46   \n",
      "7794829          1  2016-06-23 17:36:25   2016-06-23 18:48:17   \n",
      "8908376          1  2016-06-26 14:54:39   2016-06-26 15:18:09   \n",
      "10021923         2  2016-06-29 19:30:14   2016-06-29 19:35:06   \n",
      "\n",
      "          passenger_count  trip_distance  pickup_longitude  pickup_latitude  \\\n",
      "0                       2           0.79        -73.983360        40.760937   \n",
      "1113547                 1           1.00        -74.006989        40.728848   \n",
      "2227094                 1           0.83        -74.002350        40.750080   \n",
      "3340641                 1           2.30        -73.955078        40.765072   \n",
      "4454188                 2           0.59        -73.979889        40.781021   \n",
      "5567735                 1           1.10        -73.970459        40.767632   \n",
      "6681282                 1           1.58        -73.997566        40.721931   \n",
      "7794829                 1          17.80        -73.788704        40.647366   \n",
      "8908376                 2           2.80        -73.962341        40.779018   \n",
      "10021923                1           0.70        -73.980522        40.783421   \n",
      "\n",
      "          RatecodeID store_and_fwd_flag  dropoff_longitude  dropoff_latitude  \\\n",
      "0                  1                  N         -73.977463         40.753979   \n",
      "1113547            1                  N         -73.997963         40.719357   \n",
      "2227094            1                  N         -74.003822         40.741810   \n",
      "3340641            1                  N         -73.970535         40.745617   \n",
      "4454188            1                  N         -73.974716         40.778030   \n",
      "5567735            1                  N         -73.957474         40.774197   \n",
      "6681282            1                  N         -74.016792         40.715553   \n",
      "7794829            2                  N         -73.982948         40.774662   \n",
      "8908376            1                  N         -73.992897         40.756699   \n",
      "10021923           1                  N         -73.982437         40.770691   \n",
      "\n",
      "          payment_type  fare_amount  extra  mta_tax  tip_amount  tolls_amount  \\\n",
      "0                    2          6.0    0.5      0.5        0.00           0.0   \n",
      "1113547              1          9.5    0.0      0.5        2.05           0.0   \n",
      "2227094              1          7.5    0.5      0.5        1.76           0.0   \n",
      "3340641              1         14.0    0.0      0.5        2.95           0.0   \n",
      "4454188              1          5.0    0.0      0.5        1.16           0.0   \n",
      "5567735              1          6.0    0.5      0.5        1.00           0.0   \n",
      "6681282              2          9.0    0.0      0.5        0.00           0.0   \n",
      "7794829              1         52.0    4.5      0.5       11.46           0.0   \n",
      "8908376              2         16.5    0.0      0.5        0.00           0.0   \n",
      "10021923             2          5.5    1.0      0.5        0.00           0.0   \n",
      "\n",
      "          improvement_surcharge  total_amount  \n",
      "0                           0.3          7.30  \n",
      "1113547                     0.3         12.35  \n",
      "2227094                     0.3         10.56  \n",
      "3340641                     0.3         17.75  \n",
      "4454188                     0.3          6.96  \n",
      "5567735                     0.3          8.30  \n",
      "6681282                     0.3          9.80  \n",
      "7794829                     0.3         68.76  \n",
      "8908376                     0.3         17.30  \n",
      "10021923                    0.3          7.30  \n",
      "         tpep_pickup_datetime tpep_dropoff_datetime  trip_distance  \\\n",
      "0         2016-06-09 21:06:36   2016-06-09 21:13:08           0.79   \n",
      "1113547   2016-06-03 14:14:43   2016-06-03 14:27:50           1.00   \n",
      "2227094   2016-06-12 03:27:43   2016-06-12 03:36:28           0.83   \n",
      "3340641   2016-06-07 14:15:56   2016-06-07 14:34:16           2.30   \n",
      "4454188   2016-06-12 17:03:48   2016-06-12 17:08:38           0.59   \n",
      "5567735   2016-06-15 20:20:45   2016-06-15 20:25:53           1.10   \n",
      "6681282   2016-06-18 17:32:57   2016-06-18 17:43:46           1.58   \n",
      "7794829   2016-06-23 17:36:25   2016-06-23 18:48:17          17.80   \n",
      "8908376   2016-06-26 14:54:39   2016-06-26 15:18:09           2.80   \n",
      "10021923  2016-06-29 19:30:14   2016-06-29 19:35:06           0.70   \n",
      "\n",
      "          pickup_longitude  pickup_latitude  dropoff_longitude  \\\n",
      "0               -73.983360        40.760937         -73.977463   \n",
      "1113547         -74.006989        40.728848         -73.997963   \n",
      "2227094         -74.002350        40.750080         -74.003822   \n",
      "3340641         -73.955078        40.765072         -73.970535   \n",
      "4454188         -73.979889        40.781021         -73.974716   \n",
      "5567735         -73.970459        40.767632         -73.957474   \n",
      "6681282         -73.997566        40.721931         -74.016792   \n",
      "7794829         -73.788704        40.647366         -73.982948   \n",
      "8908376         -73.962341        40.779018         -73.992897   \n",
      "10021923        -73.980522        40.783421         -73.982437   \n",
      "\n",
      "          dropoff_latitude  \n",
      "0                40.753979  \n",
      "1113547          40.719357  \n",
      "2227094          40.741810  \n",
      "3340641          40.745617  \n",
      "4454188          40.778030  \n",
      "5567735          40.774197  \n",
      "6681282          40.715553  \n",
      "7794829          40.774662  \n",
      "8908376          40.756699  \n",
      "10021923         40.770691  \n"
     ]
    }
   ],
   "source": [
    "#Select some semi random rows\n",
    "print(len(df))\n",
    "firstRows = df.iloc[range(0,11135470,1113547),:]\n",
    "#print(firstRows)\n",
    "#Keep only the columns that we want\n",
    "firstRows = firstRows.loc[:,['tpep_pickup_datetime','tpep_dropoff_datetime',\n",
    "                             'trip_distance',\n",
    "                             'pickup_longitude','pickup_latitude',\n",
    "                             'dropoff_longitude','dropoff_latitude']]\n",
    "print(firstRows)"
   ]
  },
  {
   "cell_type": "code",
   "execution_count": null,
   "metadata": {
    "collapsed": true
   },
   "outputs": [],
   "source": []
  }
 ],
 "metadata": {
  "kernelspec": {
   "display_name": "Python [Root]",
   "language": "python",
   "name": "Python [Root]"
  },
  "language_info": {
   "codemirror_mode": {
    "name": "ipython",
    "version": 2
   },
   "file_extension": ".py",
   "mimetype": "text/x-python",
   "name": "python",
   "nbconvert_exporter": "python",
   "pygments_lexer": "ipython2",
   "version": "2.7.12"
  }
 },
 "nbformat": 4,
 "nbformat_minor": 0
}
