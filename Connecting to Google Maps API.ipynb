{
 "cells": [
  {
   "cell_type": "code",
   "execution_count": 2,
   "metadata": {
    "collapsed": true,
    "scrolled": true
   },
   "outputs": [],
   "source": [
    "import googlemaps\n",
    "import pandas\n",
    "import json\n",
    "from datetime import datetime"
   ]
  },
  {
   "cell_type": "markdown",
   "metadata": {},
   "source": [
    "# Test running coordinates through Google Maps API"
   ]
  },
  {
   "cell_type": "code",
   "execution_count": 3,
   "metadata": {
    "collapsed": true
   },
   "outputs": [],
   "source": [
    "apikeypath = \"apikeys/GoogleMapsAPIkey.txt\""
   ]
  },
  {
   "cell_type": "code",
   "execution_count": 4,
   "metadata": {
    "collapsed": true
   },
   "outputs": [],
   "source": [
    "apikey = open(apikeypath).read()"
   ]
  },
  {
   "cell_type": "code",
   "execution_count": 5,
   "metadata": {
    "collapsed": true
   },
   "outputs": [],
   "source": [
    "gmaps = googlemaps.Client(key = apikey)"
   ]
  },
  {
   "cell_type": "code",
   "execution_count": 7,
   "metadata": {},
   "outputs": [
    {
     "data": {
      "text/plain": [
       "[{u'bounds': {u'northeast': {u'lat': -33.8146729, u'lng': 151.2060617},\n",
       "   u'southwest': {u'lat': -33.8769344, u'lng': 150.987739}},\n",
       "  u'copyrights': u'Map data \\xa92017 Google',\n",
       "  u'legs': [{u'distance': {u'text': u'25.1 km', u'value': 25085},\n",
       "    u'duration': {u'text': u'36 mins', u'value': 2147},\n",
       "    u'duration_in_traffic': {u'text': u'34 mins', u'value': 2054},\n",
       "    u'end_address': u'Parramatta NSW 2150, Australia',\n",
       "    u'end_location': {u'lat': -33.8146729, u'lng': 151.0012743},\n",
       "    u'start_address': u'483 George St, Sydney NSW 2017, Australia',\n",
       "    u'start_location': {u'lat': -33.872757, u'lng': 151.2060617},\n",
       "    u'steps': [{u'distance': {u'text': u'0.1 km', u'value': 127},\n",
       "      u'duration': {u'text': u'1 min', u'value': 32},\n",
       "      u'end_location': {u'lat': -33.8728314, u'lng': 151.2046884},\n",
       "      u'html_instructions': u'Head <b>west</b> on <b>Druitt St</b> toward <b>Market Row</b>',\n",
       "      u'polyline': {u'points': u'vwvmE{l{y[?BAVAX@PDvB@VFx@'},\n",
       "      u'start_location': {u'lat': -33.872757, u'lng': 151.2060617},\n",
       "      u'travel_mode': u'DRIVING'},\n",
       "     {u'distance': {u'text': u'57 m', u'value': 57},\n",
       "      u'duration': {u'text': u'1 min', u'value': 10},\n",
       "      u'end_location': {u'lat': -33.8730216, u'lng': 151.2041188},\n",
       "      u'html_instructions': u'Continue onto <b>Western Distributor</b>',\n",
       "      u'polyline': {u'points': u'dxvmEid{y[@L@LDN@FX|@'},\n",
       "      u'start_location': {u'lat': -33.8728314, u'lng': 151.2046884},\n",
       "      u'travel_mode': u'DRIVING'},\n",
       "     {u'distance': {u'text': u'0.6 km', u'value': 598},\n",
       "      u'duration': {u'text': u'1 min', u'value': 47},\n",
       "      u'end_location': {u'lat': -33.8747324, u'lng': 151.197996},\n",
       "      u'html_instructions': u'Take the <b>A4</b> ramp to <b>Anzac Bridge</b>/<b>Western Suburbs</b>',\n",
       "      u'polyline': {u'points': u'jyvmEw`{y[R~@Pz@DJJh@VjAPp@Ll@VdAl@jCBHBJPbAZfBRzAJlAFd@Fd@PxAJv@DV@FBJDLHR'},\n",
       "      u'start_location': {u'lat': -33.8730216, u'lng': 151.2041188},\n",
       "      u'travel_mode': u'DRIVING'},\n",
       "     {u'distance': {u'text': u'1.8 km', u'value': 1797},\n",
       "      u'duration': {u'text': u'2 mins', u'value': 108},\n",
       "      u'end_location': {u'lat': -33.8681139, u'lng': 151.1814891},\n",
       "      u'html_instructions': u'Merge onto <b>Western Distributor</b>',\n",
       "      u'maneuver': u'merge',\n",
       "      u'polyline': {u'points': u'`dwmEozyy[DRBPRfALp@DVBP@PBX@Z?JAXAN_@vBKTOVYb@YZ_@\\\\cAt@uA`Ac@Ze@ZWPs@h@u@f@GDOJs@f@UN[T]VSROPQVMRKTMVKXENENCLEPCRCPCLANCd@Eh@Cd@AHALCNCLEPCLGPK\\\\CFCHCNSj@[`Ac@nAOh@CFQl@YlAGREXMp@Kj@Gd@GZOdAADCLCJe@rCe@tCYbBUpA[bBa@dCa@xBUrAAFCLId@G`@ERCLGX'},\n",
       "      u'start_location': {u'lat': -33.8747324, u'lng': 151.197996},\n",
       "      u'travel_mode': u'DRIVING'},\n",
       "     {u'distance': {u'text': u'0.4 km', u'value': 435},\n",
       "      u'duration': {u'text': u'1 min', u'value': 34},\n",
       "      u'end_location': {u'lat': -33.8689543, u'lng': 151.1770427},\n",
       "      u'html_instructions': u'Continue onto <b>Victoria Rd</b>/<b>A4</b>',\n",
       "      u'polyline': {u'points': u'tzumEisvy[In@If@Gv@ALCXAb@?Z@VBb@BVFb@FXPn@Jb@ZlAfA`Ed@jBH^'},\n",
       "      u'start_location': {u'lat': -33.8681139, u'lng': 151.1814891},\n",
       "      u'travel_mode': u'DRIVING'},\n",
       "     {u'distance': {u'text': u'5.0 km', u'value': 5043},\n",
       "      u'duration': {u'text': u'8 mins', u'value': 484},\n",
       "      u'end_location': {u'lat': -33.8768778, u'lng': 151.1297695},\n",
       "      u'html_instructions': u'Slight <b>left</b> onto <b>The Crescent</b>/<b>A4</b><div style=\"font-size:0.9em\">Continue to follow A4</div>',\n",
       "      u'maneuver': u'turn-slight-left',\n",
       "      u'polyline': {u'points': u'|_vmEowuy[FBDDBD@D@F@BRp@HZNh@`AjC@BTl@JVJVP`@LRp@tA`@z@p@tATf@h@fARb@b@z@b@~@JXLXN\\\\Tl@Tf@n@vA\\\\p@^p@Xh@Z`@nAjB`@v@Rf@Vr@HZDTVnAJ`A@XBj@D`ABt@@ZBZFj@Jn@FXLj@Nj@BNDNHb@D^DZ@RD^@|@BdA@RDnA@h@F|ADzA?@@T@TBTBTDVBJ@HDTBHJ\\\\FT@DRl@DLLZDJBLJZFTDRBTFb@Fl@Dv@?Z?^?ZAv@?V?n@Al@AVAfAATA\\\\APEx@GpAC^Cr@AVCVEd@Gb@E\\\\G\\\\Ij@EXCTEZAZAb@?f@@^Bl@B|@B\\\\?JDj@?X@JA^Ap@Eh@EXG\\\\CPGRIXKXQb@OXMRMRMNORONSPQNOJQJUJOFWHUFODMBc@La@JMDKDSHGBGDQHMHQLSP[Xm@l@{@v@k@h@YVc@`@ONOPUXQZS\\\\Qd@IVIVGZIf@Kt@Mx@Gh@Kz@EVEbACn@?v@BfABd@Dn@F`@Fd@F^Np@FVR|@n@vBt@hCL^FPJb@@FHZ^hAt@xB^bAZ~@Z`AL\\\\JTLXJRJPLTX`@FLDLRVh@r@j@v@j@v@TZHLX^Zb@T\\\\T\\\\LPPZN^Ph@BNJb@Pn@ZnADLFLFPFLTf@N`@LTXp@HRJTTh@Rb@BDfBfETf@N\\\\\\\\x@Rb@JXDLBHDPNn@@FDZBV@FHn@Ht@DZDXDR'},\n",
       "      u'start_location': {u'lat': -33.8689543, u'lng': 151.1770427},\n",
       "      u'travel_mode': u'DRIVING'},\n",
       "     {u'distance': {u'text': u'3.5 km', u'value': 3527},\n",
       "      u'duration': {u'text': u'8 mins', u'value': 481},\n",
       "      u'end_location': {u'lat': -33.8669941, u'lng': 151.0951461},\n",
       "      u'html_instructions': u'Turn <b>right</b> onto <b>Great Western Hwy</b>/<b>Parramatta Rd</b>/<b>A4</b>',\n",
       "      u'maneuver': u'turn-right',\n",
       "      u'polyline': {u'points': u'nqwmEaply[HTq@b@q@d@a@XWPYPmAv@EBo@`@]Tc@Za@Z{@p@i@f@GFKHEDYXe@d@STSZKPIJqAzBQXCDa@p@o@dA]h@Wb@[f@MVKPMVWb@KTEJGJGPIRELENG\\\\ABG\\\\CLANIr@En@Gn@Eb@Gz@CTE^En@?BIfACPAROpBIhAEd@Cd@Ep@G`AGdBK|BC^M|CABANGj@S`BKx@G\\\\ALAFQnAOfAGb@[nBCNCN[pBAFAFCRO`BIjBGdAC^?DAH?LGhAEz@MhCM|BGlAKnBCXAH]`DADGr@Ep@Er@Ep@Cb@AHIxAAZEj@E^C^ARIt@ATIp@Eh@GlAIhBCbAE`@?LAD?HEn@AXA^?BK~CAJAT?B?DCl@Et@AXCXGv@QjAWjB?JCRIf@I\\\\Op@GTITGVGXGTU~@UdAGVKn@Ib@CPQ~@k@bECN'},\n",
       "      u'start_location': {u'lat': -33.8768778, u'lng': 151.1297695},\n",
       "      u'travel_mode': u'DRIVING'},\n",
       "     {u'distance': {u'text': u'11.0 km', u'value': 11040},\n",
       "      u'duration': {u'text': u'9 mins', u'value': 556},\n",
       "      u'end_location': {u'lat': -33.8257283, u'lng': 150.9910889},\n",
       "      u'html_instructions': u'Turn <b>right</b> onto <b>Western Motorway</b>/<b>M4</b>',\n",
       "      u'maneuver': u'turn-right',\n",
       "      u'polyline': {u'points': u'tsumEuwey[ULUHUFWFg@JUFUFWJIDMHMLIJGHGJENGNETKn@Cl@IlCIzAEr@En@KfA[jCa@nC]zBgAbGGZWjAUhA_@`Be@nBOl@On@Ql@i@rBu@hCY`ASp@Up@c@rAwAbEkCtHkAfDo@dB_@`AaAnCs@nBm@bBe@lAYx@Wr@M\\\\IRm@hBIR[|@mAjDWn@g@zAo@jBQd@Sn@[~@St@WdAI^Qz@OdAIh@CXIp@Gp@KhAI~@MrBEp@MzAKdAc@fESnAQfA[vA]vAW`Au@bCM`@Sl@CJSl@Sl@cBvEIRUn@A@ABWn@}@zBmBvEsA~C_ArBy@hBy@fB_B`Ds@rAaBtC{BtDU\\\\_@j@_@j@U^uAlBuAjBaEvFeCfDm@x@k@x@{J`N_@h@]b@w@hA]f@QVYd@Wd@KPYf@S^MVEHWh@]v@_@|@EHm@rAUf@ADoAtCk@tAq@|Am@tAk@tA[v@]x@O`@GRg@tASd@[t@[v@_@`A{@zBc@bAa@dAIRSd@]v@m@tA[p@S`@o@rAWh@o@pAaAzB[p@c@bAm@tAWl@w@`B]p@q@tA{@fBeA|BEJEHmAtCm@zAWv@Sj@_@dAm@tBWbAQn@AFK^GXI\\\\Kd@Kf@Kd@I`@Ml@Kh@e@xBCJCJQ|@c@tBKb@S|@Ux@K^Un@[v@U`@ELUb@[h@KRCBCDIP{@tAYd@m@bAgBtCILILU^KPKPu@lAGHEFILCFEFSZILILWb@o@bAi@z@[d@Yd@MTMRcA`BYf@Yb@EHGHa@r@GJOVOZGLEHIPGNINGNCDELEHAFCHGTELCFCFCHGTITCLGRMh@I\\\\Kd@Id@?FI`@CTEVIp@APAFCTAVCXA\\\\Cl@C^?^AT?b@?R?`@@t@@b@Bj@@XFlAB`@?FB\\\\?LBf@?X@b@?r@?d@?\\\\ATAd@A\\\\Ch@AXEj@A\\\\ALAFA\\\\APCT?HEz@A\\\\?RAn@?x@?x@@f@@XDbADl@Dn@D\\\\Fl@D^DXP|ATlBNvAPvALdAXhCDX@H@H@DBBBB@L@LFl@Hp@Fh@BR@RFt@Dh@?b@@\\\\Bx@?l@?r@?p@Ct@AL?JCn@Gn@AXCVIr@EVIh@Mv@c@pBSp@Y~@[bA]~@]~@kA`DaAjC{AjE'},\n",
       "      u'start_location': {u'lat': -33.8669941, u'lng': 151.0951461},\n",
       "      u'travel_mode': u'DRIVING'},\n",
       "     {u'distance': {u'text': u'0.4 km', u'value': 354},\n",
       "      u'duration': {u'text': u'1 min', u'value': 46},\n",
       "      u'end_location': {u'lat': -33.82431, u'lng': 150.987739},\n",
       "      u'html_instructions': u'Take the <b>Burnett St</b> exit',\n",
       "      u'maneuver': u'ramp-left',\n",
       "      u'polyline': {u'points': u'xqmmEimqx[BNAF?FGTSl@Wz@c@~AMd@KZUt@Sp@Y`A[hAOh@CHIFCDIJKFSP'},\n",
       "      u'start_location': {u'lat': -33.8257283, u'lng': 150.9910889},\n",
       "      u'travel_mode': u'DRIVING'},\n",
       "     {u'distance': {u'text': u'0.7 km', u'value': 718},\n",
       "      u'duration': {u'text': u'2 mins', u'value': 92},\n",
       "      u'end_location': {u'lat': -33.8188047, u'lng': 150.9916395},\n",
       "      u'html_instructions': u'Turn <b>right</b> onto <b>Burnett St</b>',\n",
       "      u'maneuver': u'turn-right',\n",
       "      u'polyline': {u'points': u'|hmmEkxpx[IUMYGKGISWQQKMOMKIMIYQu@c@WOg@YIGw@a@cAm@}D}BSMsBkAoAu@KE_@Us@a@q@_@WQWOc@WMGECGAI?Q?'},\n",
       "      u'start_location': {u'lat': -33.82431, u'lng': 150.987739},\n",
       "      u'travel_mode': u'DRIVING'},\n",
       "     {u'distance': {u'text': u'0.4 km', u'value': 449},\n",
       "      u'duration': {u'text': u'1 min', u'value': 70},\n",
       "      u'end_location': {u'lat': -33.818538, u'lng': 150.9964233},\n",
       "      u'html_instructions': u'Turn <b>right</b> onto <b>Great Western Hwy</b>/<b>A44</b>',\n",
       "      u'maneuver': u'turn-right',\n",
       "      u'polyline': {u'points': u'nflmEwpqx[ASEe@IuAEy@YcEG{@E_@AYIOAGAEA[Cg@Cg@?c@?S@W?CFw@RaCF_@'},\n",
       "      u'start_location': {u'lat': -33.8188047, u'lng': 150.9916395},\n",
       "      u'travel_mode': u'DRIVING'},\n",
       "     {u'distance': {u'text': u'0.4 km', u'value': 364},\n",
       "      u'duration': {u'text': u'1 min', u'value': 64},\n",
       "      u'end_location': {u'lat': -33.81937920000001, u'lng': 151.000232},\n",
       "      u'html_instructions': u'Continue straight to stay on <b>Great Western Hwy</b>/<b>A44</b>',\n",
       "      u'maneuver': u'straight',\n",
       "      u'polyline': {u'points': u'zdlmEsnrx[D_@Fq@Jy@RwAf@iDPkAHs@F[Jm@VkBHu@'},\n",
       "      u'start_location': {u'lat': -33.818538, u'lng': 150.9964233},\n",
       "      u'travel_mode': u'DRIVING'},\n",
       "     {u'distance': {u'text': u'0.5 km', u'value': 532},\n",
       "      u'duration': {u'text': u'2 mins', u'value': 111},\n",
       "      u'end_location': {u'lat': -33.8147745, u'lng': 151.0017323},\n",
       "      u'html_instructions': u'Turn <b>left</b> onto <b>Marsden St</b>',\n",
       "      u'maneuver': u'turn-left',\n",
       "      u'polyline': {u'points': u'bjlmEmfsx[iAWUGYE[GWE]K?CeCi@}@U{@SQGICKCQEWEOEMCIAqAWcAUKCo@Om@OsAY'},\n",
       "      u'start_location': {u'lat': -33.81937920000001, u'lng': 151.000232},\n",
       "      u'travel_mode': u'DRIVING'},\n",
       "     {u'distance': {u'text': u'44 m', u'value': 44},\n",
       "      u'duration': {u'text': u'1 min', u'value': 12},\n",
       "      u'end_location': {u'lat': -33.8146729, u'lng': 151.0012743},\n",
       "      u'html_instructions': u'Turn <b>left</b> onto <b>Macquarie St</b>',\n",
       "      u'maneuver': u'turn-left',\n",
       "      u'polyline': {u'points': u'hmkmEyosx[SzA'},\n",
       "      u'start_location': {u'lat': -33.8147745, u'lng': 151.0017323},\n",
       "      u'travel_mode': u'DRIVING'}],\n",
       "    u'traffic_speed_entry': [],\n",
       "    u'via_waypoint': []}],\n",
       "  u'overview_polyline': {u'points': u'vwvmE{l{y[AfAFnCHfAF\\\\ZdAd@zBPt@nApFfAdFn@bERrBj@nEDRN`@j@~CHh@Dj@@f@Ch@_@vBKTi@z@y@x@yCvBuCrBaC`Bq@d@q@j@a@h@Yh@e@pAQdA[zDU~@W~@cBfFw@vCeArG_FnY_AlFSvAIdAE|@@r@Fz@N|@`CbJn@jCLHHV\\\\lApAtDn@`BxFpLfAzBXr@jBjE|@bBt@jAnAjB`@v@j@zANp@VnAJ`ADdAHvBDv@RzAh@`CZnBFr@DbCPjFHhCPnAVfAfAhDXbBLdB?z@AzCElC]|HW~B[xBGv@AjALhDF|ACpAKbA]|A]|@]l@{@fAe@`@a@Ve@Rm@PcBb@u@Xy@f@sGdGe@j@e@x@[|@Qr@k@`EQrAIrBB~BHtANfAVpAZtAdB`Gb@|Ah@dBtA|DpAtDr@tA`@n@DLRVtAjB`ArAtAnBb@n@`@z@r@lC`@|AN^z@lBzE~KlAtCNh@Pv@Hr@ZhCJl@HTq@b@sA~@q@b@aDrBeAv@eBxAs@p@y@z@_@l@mB`DsBfDmAtBw@|A_@~@WnAo@fHu@|JW~De@`L_@`DWlBkBdMEZO`BIjBKdBAN[|Ge@tIi@dFUzDSjDUhCKfAMvBS|EK|B[hIKpAi@vDWdBi@tB{@tDa@|B}@bGCNULk@P_ARk@Na@P[VQTMZMd@Kn@Cl@ShFKbBg@rE_AjGoA~GsBfJ{A~FyBnH{BvGwE|MeEfLuEnMiDtJqB`Gk@zB[zAYnBMjAk@nHSlCo@lGe@vCy@nDmAdEa@nAoC~Hc@hAuAjDaEvJyB|EyChGuChFqCrE_AvAkBlCkMdQeNhRaCnDqA~BiAbCiBbEoDnIsC|GsApDsCjHcBbE{B`FyDjIeCxFcEpI_DhHyBdGyApFyAzGoCpMa@xAq@fBmA|BiGdKiG|JsF~Iw@rAm@jAu@fBo@rBc@hB_@tBUpBKnAIjCAnBH~CNtCDrBAlCIfCK~AGnAI|CBtDJpBJlAd@dEdAbJb@vDDHDPZvCRfCDhDEhDMdC]lCq@hDm@pBcDdJ}CvI@Vs@fCmD~LMPMP_@XWo@u@_Au@o@sMuHaK_GoAs@QAQ?ASO{B_@}FM{AAYIOCMEcACkA@k@F{@ZaDl@cFjAeIb@yCHu@iAWo@Ms@M]K?CcE_AcBc@gAUkDs@}A_@sAYSzA'},\n",
       "  u'summary': u'A4 and M4',\n",
       "  u'warnings': [],\n",
       "  u'waypoint_order': []}]"
      ]
     },
     "execution_count": 7,
     "metadata": {},
     "output_type": "execute_result"
    }
   ],
   "source": [
    "now = datetime(2017,9,9,16,56)\n",
    "directions_result = gmaps.directions(\"Sydney Town Hall\",\n",
    "                                    \"Parramatta, NSW\",\n",
    "                                    departure_time=now)\n",
    "directions_result"
   ]
  },
  {
   "cell_type": "code",
   "execution_count": 22,
   "metadata": {},
   "outputs": [
    {
     "ename": "TypeError",
     "evalue": "expected string or buffer",
     "output_type": "error",
     "traceback": [
      "\u001b[0;31m---------------------------------------------------------------------------\u001b[0m",
      "\u001b[0;31mTypeError\u001b[0m                                 Traceback (most recent call last)",
      "\u001b[0;32m<ipython-input-22-9f3b09e44a59>\u001b[0m in \u001b[0;36m<module>\u001b[0;34m()\u001b[0m\n\u001b[0;32m----> 1\u001b[0;31m \u001b[0mdirections\u001b[0m \u001b[0;34m=\u001b[0m \u001b[0mpandas\u001b[0m\u001b[0;34m.\u001b[0m\u001b[0mDataFrame\u001b[0m\u001b[0;34m.\u001b[0m\u001b[0mfrom_records\u001b[0m\u001b[0;34m(\u001b[0m\u001b[0mmap\u001b[0m\u001b[0;34m(\u001b[0m\u001b[0mjson\u001b[0m\u001b[0;34m.\u001b[0m\u001b[0mloads\u001b[0m\u001b[0;34m,\u001b[0m \u001b[0mdirections_result\u001b[0m\u001b[0;34m)\u001b[0m\u001b[0;34m)\u001b[0m\u001b[0;34m\u001b[0m\u001b[0m\n\u001b[0m",
      "\u001b[0;32m/home/howard/anaconda2/lib/python2.7/json/__init__.pyc\u001b[0m in \u001b[0;36mloads\u001b[0;34m(s, encoding, cls, object_hook, parse_float, parse_int, parse_constant, object_pairs_hook, **kw)\u001b[0m\n\u001b[1;32m    337\u001b[0m             \u001b[0mparse_int\u001b[0m \u001b[0;32mis\u001b[0m \u001b[0mNone\u001b[0m \u001b[0;32mand\u001b[0m \u001b[0mparse_float\u001b[0m \u001b[0;32mis\u001b[0m \u001b[0mNone\u001b[0m \u001b[0;32mand\u001b[0m\u001b[0;34m\u001b[0m\u001b[0m\n\u001b[1;32m    338\u001b[0m             parse_constant is None and object_pairs_hook is None and not kw):\n\u001b[0;32m--> 339\u001b[0;31m         \u001b[0;32mreturn\u001b[0m \u001b[0m_default_decoder\u001b[0m\u001b[0;34m.\u001b[0m\u001b[0mdecode\u001b[0m\u001b[0;34m(\u001b[0m\u001b[0ms\u001b[0m\u001b[0;34m)\u001b[0m\u001b[0;34m\u001b[0m\u001b[0m\n\u001b[0m\u001b[1;32m    340\u001b[0m     \u001b[0;32mif\u001b[0m \u001b[0mcls\u001b[0m \u001b[0;32mis\u001b[0m \u001b[0mNone\u001b[0m\u001b[0;34m:\u001b[0m\u001b[0;34m\u001b[0m\u001b[0m\n\u001b[1;32m    341\u001b[0m         \u001b[0mcls\u001b[0m \u001b[0;34m=\u001b[0m \u001b[0mJSONDecoder\u001b[0m\u001b[0;34m\u001b[0m\u001b[0m\n",
      "\u001b[0;32m/home/howard/anaconda2/lib/python2.7/json/decoder.pyc\u001b[0m in \u001b[0;36mdecode\u001b[0;34m(self, s, _w)\u001b[0m\n\u001b[1;32m    362\u001b[0m \u001b[0;34m\u001b[0m\u001b[0m\n\u001b[1;32m    363\u001b[0m         \"\"\"\n\u001b[0;32m--> 364\u001b[0;31m         \u001b[0mobj\u001b[0m\u001b[0;34m,\u001b[0m \u001b[0mend\u001b[0m \u001b[0;34m=\u001b[0m \u001b[0mself\u001b[0m\u001b[0;34m.\u001b[0m\u001b[0mraw_decode\u001b[0m\u001b[0;34m(\u001b[0m\u001b[0ms\u001b[0m\u001b[0;34m,\u001b[0m \u001b[0midx\u001b[0m\u001b[0;34m=\u001b[0m\u001b[0m_w\u001b[0m\u001b[0;34m(\u001b[0m\u001b[0ms\u001b[0m\u001b[0;34m,\u001b[0m \u001b[0;36m0\u001b[0m\u001b[0;34m)\u001b[0m\u001b[0;34m.\u001b[0m\u001b[0mend\u001b[0m\u001b[0;34m(\u001b[0m\u001b[0;34m)\u001b[0m\u001b[0;34m)\u001b[0m\u001b[0;34m\u001b[0m\u001b[0m\n\u001b[0m\u001b[1;32m    365\u001b[0m         \u001b[0mend\u001b[0m \u001b[0;34m=\u001b[0m \u001b[0m_w\u001b[0m\u001b[0;34m(\u001b[0m\u001b[0ms\u001b[0m\u001b[0;34m,\u001b[0m \u001b[0mend\u001b[0m\u001b[0;34m)\u001b[0m\u001b[0;34m.\u001b[0m\u001b[0mend\u001b[0m\u001b[0;34m(\u001b[0m\u001b[0;34m)\u001b[0m\u001b[0;34m\u001b[0m\u001b[0m\n\u001b[1;32m    366\u001b[0m         \u001b[0;32mif\u001b[0m \u001b[0mend\u001b[0m \u001b[0;34m!=\u001b[0m \u001b[0mlen\u001b[0m\u001b[0;34m(\u001b[0m\u001b[0ms\u001b[0m\u001b[0;34m)\u001b[0m\u001b[0;34m:\u001b[0m\u001b[0;34m\u001b[0m\u001b[0m\n",
      "\u001b[0;31mTypeError\u001b[0m: expected string or buffer"
     ]
    }
   ],
   "source": [
    "directions = pandas.DataFrame.from_records(map(json.loads, directions_result))"
   ]
  },
  {
   "cell_type": "code",
   "execution_count": null,
   "metadata": {
    "collapsed": true
   },
   "outputs": [],
   "source": []
  },
  {
   "cell_type": "code",
   "execution_count": null,
   "metadata": {
    "collapsed": true
   },
   "outputs": [],
   "source": []
  }
 ],
 "metadata": {
  "anaconda-cloud": {},
  "kernelspec": {
   "display_name": "Python 2",
   "language": "python",
   "name": "python2"
  },
  "language_info": {
   "codemirror_mode": {
    "name": "ipython",
    "version": 2
   },
   "file_extension": ".py",
   "mimetype": "text/x-python",
   "name": "python",
   "nbconvert_exporter": "python",
   "pygments_lexer": "ipython2",
   "version": "2.7.13"
  }
 },
 "nbformat": 4,
 "nbformat_minor": 2
}
