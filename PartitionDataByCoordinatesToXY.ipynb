{
 "cells": [
  {
   "cell_type": "code",
   "execution_count": 8,
   "metadata": {
    "collapsed": true
   },
   "outputs": [],
   "source": [
    "import pandas\n",
    "import numpy as np\n",
    "import math\n",
    "import matplotlib.pyplot as plt\n",
    "%matplotlib inline"
   ]
  },
  {
   "cell_type": "code",
   "execution_count": 2,
   "metadata": {
    "collapsed": false
   },
   "outputs": [
    {
     "name": "stdout",
     "output_type": "stream",
     "text": [
      "   Unnamed: 0  pickup_longitude  pickup_latitude  dropoff_longitude  \\\n",
      "0     3220302        -73.984283        40.729012         -74.001923   \n",
      "1     3220303        -73.955917        40.764046         -73.975967   \n",
      "\n",
      "   dropoff_latitude  \n",
      "0         40.721500  \n",
      "1         40.765697  \n",
      "Number of data points: 80958\n"
     ]
    }
   ],
   "source": [
    "#Import the data file as a data frame\n",
    "filepath = 'rushhr_coordinates.csv'\n",
    "df = pandas.read_csv(filepath)\n",
    "\n",
    "print(df.iloc[0:2])\n",
    "print('Number of data points: '+str(len(df)))"
   ]
  },
  {
   "cell_type": "code",
   "execution_count": 36,
   "metadata": {
    "collapsed": true
   },
   "outputs": [],
   "source": [
    "def centerRotateScale(lon,lat,lonCenter=0,latCenter=0,rotationAngle=0,scale=1):\n",
    "    '''\n",
    "    Takes longitudes in terms of vertical numpy matrix and \n",
    "    latitude in terms of a vertical numpy matrix\n",
    "    Re-centers at lonCenter and latCenter\n",
    "    Rotates the coordinate sstem by rotationangle (in degrees)\n",
    "    scales the final results by the scale\n",
    "    '''\n",
    "    #Center\n",
    "    M = np.concatenate((lon-lonCenter, lat-latCenter), axis=1)\n",
    "    #Make rotation matrix then rotate\n",
    "    theta = math.radians(rotationAngle)\n",
    "    R = np.matrix([[math.cos(theta), -1*math.sin(theta)],\n",
    "                  [math.sin(theta), math.cos(theta)]])\n",
    "    M = R*M.transpose()\n",
    "    M.transpose()\n",
    "    #Scale the values\n",
    "    M = M*scale\n",
    "    return M[0,:], M[1,:]\n",
    "#Center the latitude and longitude around the bottom left of manhattan\n",
    "#(40.7083,-74.0520)\n"
   ]
  },
  {
   "cell_type": "code",
   "execution_count": 37,
   "metadata": {
    "collapsed": false
   },
   "outputs": [
    {
     "name": "stdout",
     "output_type": "stream",
     "text": [
      "[[ 0.04918508  0.05700971  0.04743595 ...,  0.05572163  0.03020918\n",
      "   0.02672669]]\n"
     ]
    }
   ],
   "source": [
    "#Center the latitude and longitude around the bottom left of manhattan\n",
    "#(40.7083,-74.0520)\n",
    "#Rotate the graph by 29 degrees, because that is the angle of manhattan\n",
    "lon = df.as_matrix(['pickup_longitude'])\n",
    "lat = df.as_matrix(['pickup_latitude'])\n",
    "x,y = centerRotateScale(lon,lat,lonCenter=-74.0520,latCenter=40.7083,rotationAngle=29,scale=1)\n",
    "print x"
   ]
  },
  {
   "cell_type": "code",
   "execution_count": null,
   "metadata": {
    "collapsed": true
   },
   "outputs": [],
   "source": []
  }
 ],
 "metadata": {
  "kernelspec": {
   "display_name": "Python 2",
   "language": "python",
   "name": "python2"
  },
  "language_info": {
   "codemirror_mode": {
    "name": "ipython",
    "version": 2
   },
   "file_extension": ".py",
   "mimetype": "text/x-python",
   "name": "python",
   "nbconvert_exporter": "python",
   "pygments_lexer": "ipython2",
   "version": "2.7.13"
  }
 },
 "nbformat": 4,
 "nbformat_minor": 0
}
