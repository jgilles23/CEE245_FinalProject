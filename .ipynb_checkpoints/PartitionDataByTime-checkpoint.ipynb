{
 "cells": [
  {
   "cell_type": "code",
   "execution_count": 19,
   "metadata": {
    "collapsed": true
   },
   "outputs": [],
   "source": [
    "import pandas\n",
    "import datetime"
   ]
  },
  {
   "cell_type": "markdown",
   "metadata": {},
   "source": [
    "# Import all of the data\n",
    "Change the filepath to wherever you stored the csv file"
   ]
  },
  {
   "cell_type": "code",
   "execution_count": 72,
   "metadata": {
    "collapsed": true
   },
   "outputs": [],
   "source": [
    "#Import the data file as a data frame\n",
    "filepath = 'yellow_tripdata_2016-06.csv'\n",
    "dfFull = pandas.read_csv(filepath)\n",
    "df = dfFull\n",
    "print(df.iloc[0:2])\n",
    "print('Number of data points: '+str(len(df)))"
   ]
  },
  {
   "cell_type": "markdown",
   "metadata": {},
   "source": [
    "http://www.shanelynn.ie/select-pandas-dataframe-rows-and-columns-using-iloc-loc-and-ix/\n",
    "Information on how to use select things in a pandas data frame"
   ]
  },
  {
   "cell_type": "code",
   "execution_count": null,
   "metadata": {
    "collapsed": true
   },
   "outputs": [],
   "source": [
    "#Select some semi random rows\n",
    "print('Number of data points: '+str(len(df)))\n",
    "N = 1000 #Approximate number of data points tp select\n",
    "df = df.iloc[range(0,len(df),len(df)//N),:]"
   ]
  },
  {
   "cell_type": "code",
   "execution_count": 74,
   "metadata": {
    "collapsed": false
   },
   "outputs": [
    {
     "name": "stdout",
     "output_type": "stream",
     "text": [
      "  tpep_pickup_datetime tpep_dropoff_datetime  trip_distance  pickup_longitude  \\\n",
      "0  2016-06-09 21:06:36   2016-06-09 21:13:08           0.79         -73.98336   \n",
      "1  2016-06-09 21:06:36   2016-06-09 21:35:11           5.22         -73.98172   \n",
      "\n",
      "   pickup_latitude  dropoff_longitude  dropoff_latitude  \n",
      "0        40.760937         -73.977463         40.753979  \n",
      "1        40.736668         -73.981636         40.670242  \n",
      "Number of data points: 11135470\n"
     ]
    }
   ],
   "source": [
    "#Keep only the columns that we want\n",
    "df = df.loc[:,['tpep_pickup_datetime','tpep_dropoff_datetime',\n",
    "                             'trip_distance',\n",
    "                             'pickup_longitude','pickup_latitude',\n",
    "                             'dropoff_longitude','dropoff_latitude']]\n",
    "print(df.iloc[0:2])\n",
    "print('Number of data points: '+str(len(df)))"
   ]
  },
  {
   "cell_type": "code",
   "execution_count": 76,
   "metadata": {
    "collapsed": false
   },
   "outputs": [
    {
     "name": "stdout",
     "output_type": "stream",
     "text": [
      "  tpep_pickup_datetime tpep_dropoff_datetime  trip_distance  pickup_longitude  \\\n",
      "0  2016-06-09 21:06:36   2016-06-09 21:13:08           0.79         -73.98336   \n",
      "1  2016-06-09 21:06:36   2016-06-09 21:35:11           5.22         -73.98172   \n",
      "\n",
      "   pickup_latitude  dropoff_longitude  dropoff_latitude pickup_datetimeobject  \\\n",
      "0        40.760937         -73.977463         40.753979   2016-06-09 21:06:36   \n",
      "1        40.736668         -73.981636         40.670242   2016-06-09 21:06:36   \n",
      "\n",
      "  dropoff_datetimeobject  pickup_dayofweek  dropoff_dayofweek  pickup_hour  \\\n",
      "0    2016-06-09 21:13:08                 3                  3           21   \n",
      "1    2016-06-09 21:35:11                 3                  3           21   \n",
      "\n",
      "   dropoff_hour  \n",
      "0            21  \n",
      "1            21  \n",
      "Number of data points: 11135470\n"
     ]
    }
   ],
   "source": [
    "#Add the day of the week and hour of the day to the pickup times and dropoff times\n",
    "#date time format example: '2011-09-04 23:44:30'\n",
    "format0 = '%Y-%m-%d %H:%M:%S'\n",
    "#Add times in datetime format\n",
    "df['pickup_datetimeobject'] = [datetime.datetime.strptime(s, format0) for s in df['tpep_pickup_datetime']]\n",
    "print('Progress: 1/6')\n",
    "df['dropoff_datetimeobject'] = [datetime.datetime.strptime(s, format0) for s in df['tpep_dropoff_datetime']]\n",
    "print('Progress: 2/6')\n",
    "#Add days of the week, where 0 is monday and 6 is sunday\n",
    "df['pickup_dayofweek'] = [dt.weekday() for dt in df['pickup_datetimeobject']]\n",
    "print('Progress: 3/6')\n",
    "df['dropoff_dayofweek'] = [dt.weekday() for dt in df['dropoff_datetimeobject']]\n",
    "print('Progress: 4/6')\n",
    "#Add hour of the day, where 0 is midnight to 1 am and 23 is 11 pm to midnight\n",
    "df['pickup_hour'] = [dt.hour for dt in df['pickup_datetimeobject']]\n",
    "print('Progress: 5/6')\n",
    "df['dropoff_hour'] = [dt.hour for dt in df['dropoff_datetimeobject']]\n",
    "print('Progress: 6/6')\n",
    "\n",
    "print(df.iloc[0:2])\n",
    "print('Number of data points: '+str(len(df)))"
   ]
  },
  {
   "cell_type": "code",
   "execution_count": 69,
   "metadata": {
    "collapsed": false
   },
   "outputs": [
    {
     "name": "stdout",
     "output_type": "stream",
     "text": [
      "        tpep_pickup_datetime tpep_dropoff_datetime  trip_distance  \\\n",
      "3229150  2016-06-07 08:06:58   2016-06-07 08:17:34           1.47   \n",
      "3240285  2016-06-07 08:54:22   2016-06-07 09:55:08          17.06   \n",
      "\n",
      "         pickup_longitude  pickup_latitude  dropoff_longitude  \\\n",
      "3229150        -74.008133        40.730991         -73.986633   \n",
      "3240285        -73.978073        40.761730         -73.783493   \n",
      "\n",
      "         dropoff_latitude pickup_datetimeobject dropoff_datetimeobject  \\\n",
      "3229150         40.734009   2016-06-07 08:06:58    2016-06-07 08:17:34   \n",
      "3240285         40.643681   2016-06-07 08:54:22    2016-06-07 09:55:08   \n",
      "\n",
      "         pickup_dayofweek  dropoff_dayofweek  pickup_hour  dropoff_hour  \n",
      "3229150                 1                  1            8             8  \n",
      "3240285                 1                  1            8             9  \n",
      "Number of data points: 8\n"
     ]
    }
   ],
   "source": [
    "#RUSH HOUR DATA\n",
    "#Select out specifc rows of data based on conditions\n",
    "#Assuming that we are only worried if the pickup dates and times meet our constraints\n",
    "#Select only Tuesday Data (pickups)\n",
    "rush = df.loc[df['pickup_dayofweek'] == 1]\n",
    "#Select only 8am to 9am (pickups)\n",
    "rush = rush.loc[rush['pickup_hour']==8]\n",
    "\n",
    "print(rush.iloc[0:2])\n",
    "print('Number of data points: '+str(len(rush)))"
   ]
  },
  {
   "cell_type": "code",
   "execution_count": 70,
   "metadata": {
    "collapsed": false
   },
   "outputs": [
    {
     "name": "stdout",
     "output_type": "stream",
     "text": [
      "        tpep_pickup_datetime tpep_dropoff_datetime  trip_distance  \\\n",
      "1514360  2016-06-04 13:23:01   2016-06-04 13:27:19           0.87   \n",
      "1525495  2016-06-04 13:49:00   2016-06-04 14:05:56           3.50   \n",
      "\n",
      "         pickup_longitude  pickup_latitude  dropoff_longitude  \\\n",
      "1514360        -73.950821        40.779099         -73.959717   \n",
      "1525495        -73.978615        40.780006         -74.004776   \n",
      "\n",
      "         dropoff_latitude pickup_datetimeobject dropoff_datetimeobject  \\\n",
      "1514360         40.770962   2016-06-04 13:23:01    2016-06-04 13:27:19   \n",
      "1525495         40.751770   2016-06-04 13:49:00    2016-06-04 14:05:56   \n",
      "\n",
      "         pickup_dayofweek  dropoff_dayofweek  pickup_hour  dropoff_hour  \n",
      "1514360                 5                  5           13            13  \n",
      "1525495                 5                  5           13            14  \n",
      "Number of data points: 6\n"
     ]
    }
   ],
   "source": [
    "#WEEKEND DATA\n",
    "#Select out specifc rows of data based on conditions\n",
    "#Select only Tuesday Data (pickups)\n",
    "weekend = df.loc[df['pickup_dayofweek'] == 5]\n",
    "#Select only 8am to 9am (pickups)\n",
    "weekend = weekend.loc[weekend['pickup_hour']==13]\n",
    "\n",
    "print(weekend.iloc[0:2])\n",
    "print('Number of data points: '+str(len(weekend)))"
   ]
  },
  {
   "cell_type": "code",
   "execution_count": 71,
   "metadata": {
    "collapsed": false
   },
   "outputs": [],
   "source": [
    "#Drop information so that all we have is the latitudes and longitudes\n",
    "rush = rush.loc[:,['pickup_longitude','pickup_latitude',\n",
    "                       'dropoff_longitude','dropoff_latitude']]\n",
    "weekend = weekend.loc[:,['pickup_longitude','pickup_latitude',\n",
    "                       'dropoff_longitude','dropoff_latitude']]\n",
    "#Save as new csv file\n",
    "rush.to_csv('rushhr_coordinates.csv')\n",
    "weekend.to_csv('weekendhr_coordinates.csv')"
   ]
  },
  {
   "cell_type": "code",
   "execution_count": null,
   "metadata": {
    "collapsed": true
   },
   "outputs": [],
   "source": []
  }
 ],
 "metadata": {
  "kernelspec": {
   "display_name": "Python [Root]",
   "language": "python",
   "name": "Python [Root]"
  },
  "language_info": {
   "codemirror_mode": {
    "name": "ipython",
    "version": 2
   },
   "file_extension": ".py",
   "mimetype": "text/x-python",
   "name": "python",
   "nbconvert_exporter": "python",
   "pygments_lexer": "ipython2",
   "version": "2.7.12"
  }
 },
 "nbformat": 4,
 "nbformat_minor": 0
}
