{
 "cells": [
  {
   "cell_type": "code",
   "execution_count": 1,
   "metadata": {
    "collapsed": true
   },
   "outputs": [],
   "source": [
    "import pandas\n",
    "import datetime"
   ]
  },
  {
   "cell_type": "markdown",
   "metadata": {},
   "source": [
    "# Import all of the data\n",
    "Change the filepath to wherever you stored the csv file"
   ]
  },
  {
   "cell_type": "code",
   "execution_count": 2,
   "metadata": {
    "collapsed": false
   },
   "outputs": [
    {
     "name": "stdout",
     "output_type": "stream",
     "text": [
      "   VendorID tpep_pickup_datetime tpep_dropoff_datetime  passenger_count  \\\n",
      "0         2  2016-06-09 21:06:36   2016-06-09 21:13:08                2   \n",
      "1         2  2016-06-09 21:06:36   2016-06-09 21:35:11                1   \n",
      "\n",
      "   trip_distance  pickup_longitude  pickup_latitude  RatecodeID  \\\n",
      "0           0.79         -73.98336        40.760937           1   \n",
      "1           5.22         -73.98172        40.736668           1   \n",
      "\n",
      "  store_and_fwd_flag  dropoff_longitude  dropoff_latitude  payment_type  \\\n",
      "0                  N         -73.977463         40.753979             2   \n",
      "1                  N         -73.981636         40.670242             1   \n",
      "\n",
      "   fare_amount  extra  mta_tax  tip_amount  tolls_amount  \\\n",
      "0          6.0    0.5      0.5         0.0           0.0   \n",
      "1         22.0    0.5      0.5         4.0           0.0   \n",
      "\n",
      "   improvement_surcharge  total_amount  \n",
      "0                    0.3           7.3  \n",
      "1                    0.3          27.3  \n",
      "Number of data points: 11135470\n"
     ]
    }
   ],
   "source": [
    "#Import the data file as a data frame\n",
    "filepath = 'yellow_tripdata_2016-06.csv'\n",
    "dfFull = pandas.read_csv(filepath)\n",
    "df = dfFull\n",
    "print(df.iloc[0:2])\n",
    "print('Number of data points: '+str(len(df)))"
   ]
  },
  {
   "cell_type": "markdown",
   "metadata": {},
   "source": [
    "http://www.shanelynn.ie/select-pandas-dataframe-rows-and-columns-using-iloc-loc-and-ix/\n",
    "Information on how to use select things in a pandas data frame"
   ]
  },
  {
   "cell_type": "code",
   "execution_count": 13,
   "metadata": {
    "collapsed": false
   },
   "outputs": [],
   "source": [
    "df = dfFull\n",
    "if False:\n",
    "    #Select some semi random rows\n",
    "    print('Number of data points: '+str(len(df)))\n",
    "    N = 1000 #Approximate number of data points tp select\n",
    "    df = df.iloc[range(0,len(df),len(df)//N),:]\n"
   ]
  },
  {
   "cell_type": "code",
   "execution_count": 14,
   "metadata": {
    "collapsed": false
   },
   "outputs": [
    {
     "name": "stdout",
     "output_type": "stream",
     "text": [
      "  tpep_pickup_datetime tpep_dropoff_datetime  trip_distance  pickup_longitude  \\\n",
      "0  2016-06-09 21:06:36   2016-06-09 21:13:08           0.79         -73.98336   \n",
      "1  2016-06-09 21:06:36   2016-06-09 21:35:11           5.22         -73.98172   \n",
      "\n",
      "   pickup_latitude  dropoff_longitude  dropoff_latitude  trip_distance  \n",
      "0        40.760937         -73.977463         40.753979           0.79  \n",
      "1        40.736668         -73.981636         40.670242           5.22  \n",
      "Number of data points: 11135470\n"
     ]
    }
   ],
   "source": [
    "#Keep only the columns that we want\n",
    "df = df.loc[:,['tpep_pickup_datetime','tpep_dropoff_datetime',\n",
    "                             'trip_distance',\n",
    "                             'pickup_longitude','pickup_latitude',\n",
    "                             'dropoff_longitude','dropoff_latitude',\n",
    "                             'trip_distance']]\n",
    "print(df.iloc[0:2])\n",
    "print('Number of data points: '+str(len(df)))"
   ]
  },
  {
   "cell_type": "code",
   "execution_count": 15,
   "metadata": {
    "collapsed": false
   },
   "outputs": [
    {
     "name": "stderr",
     "output_type": "stream",
     "text": [
      "C:\\Anaconda2\\lib\\site-packages\\ipykernel\\__main__.py:5: SettingWithCopyWarning: \n",
      "A value is trying to be set on a copy of a slice from a DataFrame.\n",
      "Try using .loc[row_indexer,col_indexer] = value instead\n",
      "\n",
      "See the caveats in the documentation: http://pandas.pydata.org/pandas-docs/stable/indexing.html#indexing-view-versus-copy\n"
     ]
    },
    {
     "name": "stdout",
     "output_type": "stream",
     "text": [
      "Progress: 1/7\n"
     ]
    },
    {
     "name": "stderr",
     "output_type": "stream",
     "text": [
      "C:\\Anaconda2\\lib\\site-packages\\ipykernel\\__main__.py:7: SettingWithCopyWarning: \n",
      "A value is trying to be set on a copy of a slice from a DataFrame.\n",
      "Try using .loc[row_indexer,col_indexer] = value instead\n",
      "\n",
      "See the caveats in the documentation: http://pandas.pydata.org/pandas-docs/stable/indexing.html#indexing-view-versus-copy\n"
     ]
    },
    {
     "name": "stdout",
     "output_type": "stream",
     "text": [
      "Progress: 2/7\n"
     ]
    },
    {
     "name": "stderr",
     "output_type": "stream",
     "text": [
      "C:\\Anaconda2\\lib\\site-packages\\ipykernel\\__main__.py:10: SettingWithCopyWarning: \n",
      "A value is trying to be set on a copy of a slice from a DataFrame.\n",
      "Try using .loc[row_indexer,col_indexer] = value instead\n",
      "\n",
      "See the caveats in the documentation: http://pandas.pydata.org/pandas-docs/stable/indexing.html#indexing-view-versus-copy\n"
     ]
    },
    {
     "name": "stdout",
     "output_type": "stream",
     "text": [
      "Progress: 3/7\n"
     ]
    },
    {
     "name": "stderr",
     "output_type": "stream",
     "text": [
      "C:\\Anaconda2\\lib\\site-packages\\ipykernel\\__main__.py:12: SettingWithCopyWarning: \n",
      "A value is trying to be set on a copy of a slice from a DataFrame.\n",
      "Try using .loc[row_indexer,col_indexer] = value instead\n",
      "\n",
      "See the caveats in the documentation: http://pandas.pydata.org/pandas-docs/stable/indexing.html#indexing-view-versus-copy\n"
     ]
    },
    {
     "name": "stdout",
     "output_type": "stream",
     "text": [
      "Progress: 4/7\n"
     ]
    },
    {
     "name": "stderr",
     "output_type": "stream",
     "text": [
      "C:\\Anaconda2\\lib\\site-packages\\ipykernel\\__main__.py:15: SettingWithCopyWarning: \n",
      "A value is trying to be set on a copy of a slice from a DataFrame.\n",
      "Try using .loc[row_indexer,col_indexer] = value instead\n",
      "\n",
      "See the caveats in the documentation: http://pandas.pydata.org/pandas-docs/stable/indexing.html#indexing-view-versus-copy\n"
     ]
    },
    {
     "name": "stdout",
     "output_type": "stream",
     "text": [
      "Progress: 5/7\n"
     ]
    },
    {
     "name": "stderr",
     "output_type": "stream",
     "text": [
      "C:\\Anaconda2\\lib\\site-packages\\ipykernel\\__main__.py:17: SettingWithCopyWarning: \n",
      "A value is trying to be set on a copy of a slice from a DataFrame.\n",
      "Try using .loc[row_indexer,col_indexer] = value instead\n",
      "\n",
      "See the caveats in the documentation: http://pandas.pydata.org/pandas-docs/stable/indexing.html#indexing-view-versus-copy\n"
     ]
    },
    {
     "name": "stdout",
     "output_type": "stream",
     "text": [
      "Progress: 6/7\n",
      "Progress: 7/7\n",
      "  tpep_pickup_datetime tpep_dropoff_datetime  trip_distance  pickup_longitude  \\\n",
      "0  2016-06-09 21:06:36   2016-06-09 21:13:08           0.79         -73.98336   \n",
      "1  2016-06-09 21:06:36   2016-06-09 21:35:11           5.22         -73.98172   \n",
      "\n",
      "   pickup_latitude  dropoff_longitude  dropoff_latitude  trip_distance  \\\n",
      "0        40.760937         -73.977463         40.753979           0.79   \n",
      "1        40.736668         -73.981636         40.670242           5.22   \n",
      "\n",
      "  pickup_datetimeobject dropoff_datetimeobject  pickup_dayofweek  \\\n",
      "0   2016-06-09 21:06:36    2016-06-09 21:13:08                 3   \n",
      "1   2016-06-09 21:06:36    2016-06-09 21:35:11                 3   \n",
      "\n",
      "   dropoff_dayofweek  pickup_hour  dropoff_hour  trip_time  \n",
      "0                  3           21            21   0.108889  \n",
      "1                  3           21            21   0.476389  \n",
      "Number of data points: 11135470\n"
     ]
    },
    {
     "name": "stderr",
     "output_type": "stream",
     "text": [
      "C:\\Anaconda2\\lib\\site-packages\\ipykernel\\__main__.py:20: SettingWithCopyWarning: \n",
      "A value is trying to be set on a copy of a slice from a DataFrame.\n",
      "Try using .loc[row_indexer,col_indexer] = value instead\n",
      "\n",
      "See the caveats in the documentation: http://pandas.pydata.org/pandas-docs/stable/indexing.html#indexing-view-versus-copy\n"
     ]
    }
   ],
   "source": [
    "#Add the day of the week and hour of the day to the pickup times and dropoff times\n",
    "#date time format example: '2011-09-04 23:44:30'\n",
    "format0 = '%Y-%m-%d %H:%M:%S'\n",
    "#Add times in datetime format\n",
    "df['pickup_datetimeobject'] = [datetime.datetime.strptime(s, format0) for s in df['tpep_pickup_datetime']]\n",
    "print('Progress: 1/7')\n",
    "df['dropoff_datetimeobject'] = [datetime.datetime.strptime(s, format0) for s in df['tpep_dropoff_datetime']]\n",
    "print('Progress: 2/7')\n",
    "#Add days of the week, where 0 is monday and 6 is sunday\n",
    "df['pickup_dayofweek'] = [dt.weekday() for dt in df['pickup_datetimeobject']]\n",
    "print('Progress: 3/7')\n",
    "df['dropoff_dayofweek'] = [dt.weekday() for dt in df['dropoff_datetimeobject']]\n",
    "print('Progress: 4/7')\n",
    "#Add hour of the day, where 0 is midnight to 1 am and 23 is 11 pm to midnight\n",
    "df['pickup_hour'] = [dt.hour for dt in df['pickup_datetimeobject']]\n",
    "print('Progress: 5/7')\n",
    "df['dropoff_hour'] = [dt.hour for dt in df['dropoff_datetimeobject']]\n",
    "print('Progress: 6/7')\n",
    "#Add length of time of the trip in hours\n",
    "df['trip_time'] = [abs((t0-t1).total_seconds())/3600.0 for t0,t1 in \\\n",
    "                   zip(df['pickup_datetimeobject'],df['dropoff_datetimeobject'])]\n",
    "print('Progress: 7/7')\n",
    "\n",
    "print(df.iloc[0:2])\n",
    "print('Number of data points: '+str(len(df)))"
   ]
  },
  {
   "cell_type": "code",
   "execution_count": 16,
   "metadata": {
    "collapsed": false
   },
   "outputs": [
    {
     "name": "stdout",
     "output_type": "stream",
     "text": [
      "        tpep_pickup_datetime tpep_dropoff_datetime  trip_distance  \\\n",
      "3220302  2016-06-07 08:00:00   2016-06-07 08:11:32           1.68   \n",
      "3220303  2016-06-07 08:00:00   2016-06-07 08:12:09           1.36   \n",
      "\n",
      "         pickup_longitude  pickup_latitude  dropoff_longitude  \\\n",
      "3220302        -73.984283        40.729012         -74.001923   \n",
      "3220303        -73.955917        40.764046         -73.975967   \n",
      "\n",
      "         dropoff_latitude  trip_distance pickup_datetimeobject  \\\n",
      "3220302         40.721500           1.68   2016-06-07 08:00:00   \n",
      "3220303         40.765697           1.36   2016-06-07 08:00:00   \n",
      "\n",
      "        dropoff_datetimeobject  pickup_dayofweek  dropoff_dayofweek  \\\n",
      "3220302    2016-06-07 08:11:32                 1                  1   \n",
      "3220303    2016-06-07 08:12:09                 1                  1   \n",
      "\n",
      "         pickup_hour  dropoff_hour  trip_time  \n",
      "3220302            8             8   0.192222  \n",
      "3220303            8             8   0.202500  \n",
      "Number of data points: 80958\n"
     ]
    }
   ],
   "source": [
    "#RUSH HOUR DATA\n",
    "#Select out specifc rows of data based on conditions\n",
    "#Assuming that we are only worried if the pickup dates and times meet our constraints\n",
    "#Select only Tuesday Data (pickups)\n",
    "rush = df.loc[df['pickup_dayofweek'] == 1]\n",
    "#Select only 8am to 9am (pickups)\n",
    "rush = rush.loc[rush['pickup_hour']==8]\n",
    "\n",
    "print(rush.iloc[0:2])\n",
    "print('Number of data points: '+str(len(rush)))"
   ]
  },
  {
   "cell_type": "code",
   "execution_count": 17,
   "metadata": {
    "collapsed": false
   },
   "outputs": [
    {
     "name": "stdout",
     "output_type": "stream",
     "text": [
      "        tpep_pickup_datetime tpep_dropoff_datetime  trip_distance  \\\n",
      "1504109  2016-06-04 13:02:10   2016-06-04 13:10:39            1.2   \n",
      "1504110  2016-06-04 13:02:10   2016-06-04 13:11:46            1.1   \n",
      "\n",
      "         pickup_longitude  pickup_latitude  dropoff_longitude  \\\n",
      "1504109        -73.996704        40.720528         -73.999062   \n",
      "1504110        -73.984215        40.728851         -73.987534   \n",
      "\n",
      "         dropoff_latitude  trip_distance pickup_datetimeobject  \\\n",
      "1504109         40.734329            1.2   2016-06-04 13:02:10   \n",
      "1504110         40.740757            1.1   2016-06-04 13:02:10   \n",
      "\n",
      "        dropoff_datetimeobject  pickup_dayofweek  dropoff_dayofweek  \\\n",
      "1504109    2016-06-04 13:10:39                 5                  5   \n",
      "1504110    2016-06-04 13:11:46                 5                  5   \n",
      "\n",
      "         pickup_hour  dropoff_hour  trip_time  \n",
      "1504109           13            13   0.141389  \n",
      "1504110           13            13   0.160000  \n",
      "Number of data points: 79642\n"
     ]
    }
   ],
   "source": [
    "#WEEKEND DATA\n",
    "#Select out specifc rows of data based on conditions\n",
    "#Select only Tuesday Data (pickups)\n",
    "weekend = df.loc[df['pickup_dayofweek'] == 5]\n",
    "#Select only 8am to 9am (pickups)\n",
    "weekend = weekend.loc[weekend['pickup_hour']==13]\n",
    "\n",
    "print(weekend.iloc[0:2])\n",
    "print('Number of data points: '+str(len(weekend)))"
   ]
  },
  {
   "cell_type": "code",
   "execution_count": 18,
   "metadata": {
    "collapsed": false
   },
   "outputs": [],
   "source": [
    "#Drop information so that all we have is the latitudes and longitudes\n",
    "rush = rush.loc[:,['pickup_longitude','pickup_latitude',\n",
    "                       'dropoff_longitude','dropoff_latitude',\n",
    "                        'trip_distance','trip_time']]\n",
    "weekend = weekend.loc[:,['pickup_longitude','pickup_latitude',\n",
    "                       'dropoff_longitude','dropoff_latitude',\n",
    "                        'trip_distance','trip_time']]\n",
    "#Save as new csv file\n",
    "rush.to_csv('rushhr_coordinates.csv')\n",
    "weekend.to_csv('weekendhr_coordinates.csv')"
   ]
  },
  {
   "cell_type": "markdown",
   "metadata": {
    "collapsed": true
   },
   "source": [
    "## HI!"
   ]
  },
  {
   "cell_type": "code",
   "execution_count": 1,
   "metadata": {
    "collapsed": true
   },
   "outputs": [],
   "source": [
    "#fdslkfds\n"
   ]
  },
  {
   "cell_type": "code",
   "execution_count": null,
   "metadata": {
    "collapsed": true
   },
   "outputs": [],
   "source": []
  }
 ],
 "metadata": {
  "kernelspec": {
   "display_name": "Python [Root]",
   "language": "python",
   "name": "Python [Root]"
  },
  "language_info": {
   "codemirror_mode": {
    "name": "ipython",
    "version": 2
   },
   "file_extension": ".py",
   "mimetype": "text/x-python",
   "name": "python",
   "nbconvert_exporter": "python",
   "pygments_lexer": "ipython2",
   "version": "2.7.12"
  }
 },
 "nbformat": 4,
 "nbformat_minor": 0
}
